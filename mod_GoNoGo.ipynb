{
 "cells": [
  {
   "cell_type": "markdown",
   "metadata": {},
   "source": [
    "# Response table for the GoNoGo task\n",
    "\n",
    "\n",
    "\n",
    "This code collects the response and response time from each participant's file and save the information in a csv table.\n",
    "\n",
    "The code first opens each txt file corresponding to the GoNoGo tasks stored in ***path*** . The ID for each participant is collected from the ***Subject*** line in the txt file, and stored in a variable ***ID***.\n",
    "\n",
    "Parsing of the file is performed by finding the experimental and control samples for each trial (***GoNoGo1, MotorCont1, GoNoGo3, MotorCont2, GoNoGo4, MotorCont3***) within a ***LogFrame***. Two variables are stored for each sample:\n",
    "\n",
    "- Response time (***RT***): As found in line ***ShowImage.RT***, or 999 if none.\n",
    "- Response (***Resp***): 1 if the participant answered correrctly (***ShowImage.RESP*** = ***ShowImage.CRESP***), 0 otherwise.\n",
    "\n",
    "Variables are stored as ***trialVar\\_S#\\_RT***  and ***trialVar\\_S#\\_Resp***, with *#* being the number of the sample for each trial, and _trialVar_ the variable for each trial as follow:\n",
    "\n",
    "***Exp1*** for ***GoNoGo1***, ***Exp2*** for ***GoNoGo3***, ***Exp3*** for ***GoNoGo4***, ***Cont1*** for ***MotorCont1***, ***Cont2*** for ***MotorCont2***, ***Cont3*** for ***MotorCont3***.\n",
    "\n",
    "For example, in the frame corresponding to trial GoNoGo3, sample 4:\n",
    "\n",
    "\t*** LogFrame Start ***\n",
    "\tProcedure: ExpTrial\n",
    "\tTrialType: Go\n",
    "\tStimPic: sun1.jpg\n",
    "\tCorrectResp: 1\n",
    "\tTriggerValue: 2\n",
    "\tGoNoGo3: 4\n",
    "\tRunning: GoNoGo3\n",
    "\tShowImage.OnsetDelay: 33\n",
    "\tShowImage.OnsetTime: 202397\n",
    "\tShowImage.DurationError: 0\n",
    "\tShowImage.RTTime: 202958\n",
    "\tShowImage.ACC: 1\n",
    "\tShowImage.RT: 561\n",
    "\tShowImage.RESP: 1\n",
    "\tShowImage.CRESP: 1\n",
    "\tShowImage.OnsetToOnsetTime: 1533\n",
    "\tGoNoGo3.Cycle: 1\n",
    "\tGoNoGo3.Sample: 4\n",
    "\t*** LogFrame End ***\n",
    "    \n",
    "The value of 561 is stored in *Exp2\\_S4\\_RT* and 1 is stored in *Exp2\\_S4\\_Resp*\n",
    "\n",
    "Variables are stored in a csv file. There are 241 variables total in the csv file: 20 for each trial plus the participant's ID."
   ]
  },
  {
   "cell_type": "code",
   "execution_count": 2,
   "metadata": {},
   "outputs": [],
   "source": [
    "import pandas as pd\n",
    "import os, sys\n"
   ]
  },
  {
   "cell_type": "code",
   "execution_count": 3,
   "metadata": {},
   "outputs": [
    {
     "name": "stdout",
     "output_type": "stream",
     "text": [
      "['/media/ioastorga/Lexar/NIRS_data/10040_20181215/0fNIRS GoNoGo Task Touchsreeen_JM_Triggers-10040-1.txt', '/media/ioastorga/Lexar/NIRS_data/10046_20190304/0fNIRS GoNoGo Task Touchsreeen_JM_Triggers-10046-1.txt', '/media/ioastorga/Lexar/NIRS_data/10051_20190425/0fNIRS GoNoGo Task Touchsreeen_JM_Triggers_StimBlack-10051-1.txt', '/media/ioastorga/Lexar/NIRS_data/10537_20190202/0fNIRS GoNoGo Task Touchsreeen_JM_Triggers-10537-1.txt', '/media/ioastorga/Lexar/NIRS_data/10538_20181208/0fNIRS GoNoGo Task Touchsreeen-10538-1.txt', '/media/ioastorga/Lexar/NIRS_data/10560_20190615/0fNIRS GoNoGo Task Touchsreeen_JM_Triggers_StimBlack-10560-1.txt', '/media/ioastorga/Lexar/NIRS_data/10609_20190223/0fNIRS GoNoGo Task Touchsreeen_JM_Triggers-10609-1.txt', '/media/ioastorga/Lexar/NIRS_data/10614_20190622/0fNIRS GoNoGo Task Touchsreeen_JM_Triggers_StimBlack-10614-1.txt', '/media/ioastorga/Lexar/NIRS_data/10616_20190124/0fNIRS GoNoGo Task Touchsreeen_JM_Triggers-10616-1.txt', '/media/ioastorga/Lexar/NIRS_data/10621_20190119/0fNIRS GoNoGo Task Touchsreeen_JM_Triggers-10621-1.txt', '/media/ioastorga/Lexar/NIRS_data/10628_20181105/0fNIRS GoNoGo Task Touchsreeen-10628-1.txt', '/media/ioastorga/Lexar/NIRS_data/10631_20181127/0fNIRS GoNoGo Task Touchsreeen-10631-1.txt', '/media/ioastorga/Lexar/NIRS_data/10637_20190111/0fNIRS GoNoGo Task Touchsreeen_JM_Triggers-10637-1.txt', '/media/ioastorga/Lexar/NIRS_data/10638_20190115/0fNIRS GoNoGo Task Touchsreeen_JM_Triggers-10638-1.txt', '/media/ioastorga/Lexar/NIRS_data/10701_20190505/0fNIRS GoNoGo Task Touchsreeen_JM_Triggers_StimBlack-10701-1.txt', '/media/ioastorga/Lexar/NIRS_data/10703_20190522/0fNIRS GoNoGo Task Touchsreeen_JM_Triggers_StimBlack-10703-1.txt', '/media/ioastorga/Lexar/NIRS_data/19019_20181009/0fNIRS GoNoGo Task Touchsreeen-19019-1.txt', '/media/ioastorga/Lexar/NIRS_data/19022_20181020/0fNIRS GoNoGo Task Touchsreeen-19022-1.txt', '/media/ioastorga/Lexar/NIRS_data/10066_20190317/0fNIRS GoNoGo Task Touchsreeen_JM_Triggers_Stim1-10066-1.txt', '/media/ioastorga/Lexar/NIRS_data/10080_20190424/0fNIRS GoNoGo Task Touchsreeen_JM_Triggers_StimBlack-10080-1.txt', '/media/ioastorga/Lexar/NIRS_data/10082_20190316/0fNIRS GoNoGo Task Touchsreeen_JM_Triggers_Stim1-10082-1.txt', '/media/ioastorga/Lexar/NIRS_data/10082_20190316/0fNIRS GoNoGo Task Touchsreeen_JM_Triggers_Stim1-10503-1.txt', '/media/ioastorga/Lexar/NIRS_data/10089_20190216/0fNIRS GoNoGo Task Touchsreeen_JM_Triggers-10089-1.txt', '/media/ioastorga/Lexar/NIRS_data/10090_20181016/0fNIRS GoNoGo Touch fast version_R21_new-10090-1.txt', '/media/ioastorga/Lexar/NIRS_data/10099_20190204/0fNIRS GoNoGo Task Touchsreeen_JM_Triggers-10099-1.txt', '/media/ioastorga/Lexar/NIRS_data/10107_20190330/0fNIRS GoNoGo Task Touchsreeen_JM_Triggers_StimBlack-10107-1.txt', '/media/ioastorga/Lexar/NIRS_data/10500_20190114/0fNIRS GoNoGo Task Touchsreeen_JM_Triggers-10500-1.txt', '/media/ioastorga/Lexar/NIRS_data/10503_20190315/0fNIRS GoNoGo Task Touchsreeen_JM_Triggers_Stim1-10503-1.txt', '/media/ioastorga/Lexar/NIRS_data/10513_20190629/0fNIRS GoNoGo Task Touchsreeen_JM_Triggers_StimBlack-10513-1.txt', '/media/ioastorga/Lexar/NIRS_data/10520_20181218/0fNIRS GoNoGo Task Touchsreeen_JM_Triggers-10520-1.txt', '/media/ioastorga/Lexar/NIRS_data/10523_20181110/0fNIRS GoNoGo Task Touchsreeen-10523-1.txt']\n"
     ]
    }
   ],
   "source": [
    "\n",
    "path = \"/media/ioastorga/Lexar/NIRS_data\"\n",
    "task_files_all = []\n",
    "# r=root, d=directories, f = files\n",
    "for r, d, f in os.walk(path):\n",
    "    for file in f:\n",
    "        if \".txt\" in file and \"GoNoGo\" in file and not \"Practice\" in file and not \"._\" in file:\n",
    "            task_files_all.append(os.path.join(r,file))\n",
    "print(task_files_all)"
   ]
  },
  {
   "cell_type": "markdown",
   "metadata": {},
   "source": [
    "path = \"10040_20181215\"\n",
    "dir_to_list = os.listdir(path)\n",
    "gonogo_files_all = []\n",
    "for item in dir_to_list:\n",
    "    if \".txt\" in item and \"GoNoGo\" in item and not \"Practice\" in item and not \"._\" in item:\n",
    "        gonogo_files_all.append(path+'/'+item)\n",
    "print(gonogo_files_all"
   ]
  },
  {
   "cell_type": "markdown",
   "metadata": {},
   "source": [
    "path = \"gonogo_dir1\"\n",
    "dir_to_list = os.listdir(path)\n",
    "gonogo_files = []\n",
    "for item in dir_to_list:\n",
    "    if \".txt\" in item:\n",
    "        gonogo_files.append(path+'/'+item)\n",
    "print(gonogo_files)"
   ]
  },
  {
   "cell_type": "code",
   "execution_count": 7,
   "metadata": {},
   "outputs": [],
   "source": [
    "field_to_column = dict([('GoNoGo1','Exp1'), ('MotorCont1','Ctr1'),\n",
    "                   ('GoNoGo3','Exp3'), ('MotorCont2','Ctr2'),\n",
    "                   ('GoNoGo4','Exp4'), ('MotorCont3','Ctr3'),]) \n",
    "\n",
    "\n",
    "def file_to_row(fname):\n",
    "    row = {}\n",
    "    start_parsing_frame = False\n",
    "    curr_frame = {}\n",
    "    with open(fname, encoding='utf-16-le') as fl:\n",
    "        for line in fl.readlines():\n",
    "            line = line.strip('\\n')\n",
    "            if 'Subject:' in line:\n",
    "                row['ID'] = line.split(':')[-1].strip()\n",
    "            elif 'LogFrame Start' in line:\n",
    "                start_parsing_frame = True\n",
    "            elif 'LogFrame End' in line:\n",
    "                start_parsing_frame = False\n",
    "                frame_type = None\n",
    "                frame_key = None\n",
    "                for key in curr_frame.keys():\n",
    "                    for field_key in field_to_column.keys():\n",
    "                        if key == field_key:\n",
    "                            frame_type = field_to_column[key] # e.g. Exp1\n",
    "                            frame_key = key\n",
    "                if frame_type is None:\n",
    "                    curr_frame = {}\n",
    "                else:\n",
    "                    sample = curr_frame[frame_key] # S: 1-20\n",
    "                    column_name = frame_type + '_S' + sample\n",
    "                    if 'ShowImage.RT' in curr_frame:\n",
    "                        row[column_name + '_RT'] = int(curr_frame['ShowImage.RT'])\n",
    "                    else:\n",
    "                        row[column_name + '_RT'] = 999 # or None? check\n",
    "                    if 'ShowImage.RESP' in curr_frame and curr_frame['ShowImage.RESP'] == curr_frame['ShowImage.CRESP']:\n",
    "                        row[column_name + '_Resp'] = 1\n",
    "                    else:\n",
    "                        row[column_name + '_Resp'] = 0 # or None? check\n",
    "\n",
    "                    curr_frame = {}\n",
    "            elif start_parsing_frame:\n",
    "                fields = [x.strip() for x in line.split(':')]\n",
    "                curr_frame[fields[0]] = fields[1]\n",
    "    return row\n",
    "            \n",
    "rows = []\n",
    "# for fname in ['0fNIRS GoNoGo Task Touchsreeen_JM_Triggers_Stim1-10503-1.txt']:\n",
    "#for fname in gonogo_files:\n",
    "for fname in task_files_all:\n",
    "    rows.append(file_to_row(fname))\n",
    "\n",
    "expt_table = pd.DataFrame(rows).set_index('ID')\n",
    "\n"
   ]
  },
  {
   "cell_type": "code",
   "execution_count": 8,
   "metadata": {},
   "outputs": [],
   "source": [
    "expt_table.to_csv('table_for_spss_all.csv')"
   ]
  },
  {
   "cell_type": "code",
   "execution_count": 9,
   "metadata": {},
   "outputs": [
    {
     "data": {
      "text/plain": [
       "31"
      ]
     },
     "execution_count": 9,
     "metadata": {},
     "output_type": "execute_result"
    }
   ],
   "source": [
    "len(rows)"
   ]
  },
  {
   "cell_type": "code",
   "execution_count": null,
   "metadata": {},
   "outputs": [],
   "source": []
  }
 ],
 "metadata": {
  "kernelspec": {
   "display_name": "Python 3",
   "language": "python",
   "name": "python3"
  },
  "language_info": {
   "codemirror_mode": {
    "name": "ipython",
    "version": 3
   },
   "file_extension": ".py",
   "mimetype": "text/x-python",
   "name": "python",
   "nbconvert_exporter": "python",
   "pygments_lexer": "ipython3",
   "version": "3.7.3"
  }
 },
 "nbformat": 4,
 "nbformat_minor": 2
}
