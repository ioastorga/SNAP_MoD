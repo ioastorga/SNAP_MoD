{
 "cells": [
  {
   "cell_type": "markdown",
   "metadata": {},
   "source": [
    "# Response table for the Scoop task\n",
    "\n",
    "\n",
    "\n",
    "This code collects the response and response time from each participant's file and save the information in a csv table.\n",
    "\n",
    "The code first opens each txt file corresponding to the Scoop tasks stored in ***path*** . The ID for each participant is collected from the ***Subject*** line in the txt file, and stored in a variable ***ID***.\n",
    "\n",
    "Parsing of the file is performed by finding the experimental and control samples for each trial (***NonStroopList1, StroopList1, NonStroopList2, StroopList2, NonStroop3, Strooplist3***) within a ***LogFrame***. Two variables are stored for each sample:\n",
    "\n",
    "- Response time (***RT***): As found in line ***Slide1.RT***, or 999 if none.\n",
    "- Response (***Resp***): 1 if the participant answered correrctly (***Response*** = ***Slide1.CRESP***),\"video\" if the participant touched the screen outside the answer frame (***Response*** = Image#), and 0 otherwise.\n",
    "\n",
    "Variables are stored as ***trialVar\\_S#\\_RT***  and ***trialVar\\_S#\\_Resp***, with *#* being the number of the sample for each trial, and _trialVar_ the variable for each trial as follow:\n",
    "\n",
    "***NSt1*** for ***NonStroopList1***, ***NSt2*** for ***NonStroopList2***, ***NSt3*** for ***NonStroop3***, ***St1*** for ***StroopList1***, ***St2*** for ***StroopList2***, ***St3*** for ***Strooplist3***.\n",
    "\n",
    "\n",
    "For example, in the frame corresponding to trial NonStroopList2, sample 1:\n",
    "\n",
    "\t*** LogFrame Start ***\n",
    "\tProcedure: ExpTrial\n",
    "\tTrialType: Nonstroop\n",
    "\tTargetAnimal: Kitten5.bmp\n",
    "\tTargetAudio: catsoundfinal.wav\n",
    "\tCorrectresp: Text3\n",
    "\tTriggerValue: 1\n",
    "\tNonStroopList2: 1\n",
    "\tRunning: NonStroopList2\n",
    "\tSlide1.OnsetDelay: 141\n",
    "\tSlide1.OnsetTime: 235001\n",
    "\tSlide1.DurationError: 0\n",
    "\tSlide1.RTTime: 237606\n",
    "\tSlide1.ACC: 1\n",
    "\tSlide1.RT: 2605\n",
    "\tSlide1.RESP: 1\n",
    "\tSlide1.CRESP: Text3\n",
    "\tSlide1.OnsetToOnsetTime: 5014\n",
    "\tResponse: Text3\n",
    "\tNonStroopList2.Cycle: 1\n",
    "\tNonStroopList2.Sample: 1\n",
    "\t*** LogFrame End ***\n",
    "    \n",
    "The value of 2605 is stored in *NSt2\\_S1\\_RT* and 1 is stored in *NSt2\\_S1\\_Resp*\n",
    "\n",
    "Variables are stored in a csv file. There are 73 variables total in the csv file: 6 for each trial plus the participant's ID."
   ]
  },
  {
   "cell_type": "code",
   "execution_count": 5,
   "metadata": {},
   "outputs": [],
   "source": [
    "import pandas as pd\n",
    "import os, sys\n"
   ]
  },
  {
   "cell_type": "code",
   "execution_count": 10,
   "metadata": {
    "scrolled": true
   },
   "outputs": [
    {
     "name": "stdout",
     "output_type": "stream",
     "text": [
      "['/media/ioastorga/Lexar/NIRS_data/10040_20181215/Pet Store Stroop Task _JM_triggers_B-10040-1.txt', '/media/ioastorga/Lexar/NIRS_data/10046_20190304/Pet Store Stroop Task _JM_triggers-10046-1.txt', '/media/ioastorga/Lexar/NIRS_data/10051_20190425/Pet Store Stroop Task _JM_triggers_StimBlack-10051-1.txt', '/media/ioastorga/Lexar/NIRS_data/10537_20190202/Pet Store Stroop Task _JM_triggers_B-10537-1.txt', '/media/ioastorga/Lexar/NIRS_data/10538_20181208/Pet Store Stroop Task _JM-10538-1.txt', '/media/ioastorga/Lexar/NIRS_data/10560_20190615/Pet Store Stroop Task _JM_triggers_StimBlack-10560-1.txt', '/media/ioastorga/Lexar/NIRS_data/10609_20190223/Pet Store Stroop Task _JM_triggers-10609-1.txt', '/media/ioastorga/Lexar/NIRS_data/10614_20190622/Pet Store Stroop Task _JM_triggers_StimBlack-10614-1.txt', '/media/ioastorga/Lexar/NIRS_data/10616_20190124/Pet Store Stroop Task _JM_triggers_B-10616-1.txt', '/media/ioastorga/Lexar/NIRS_data/10621_20190119/Pet Store Stroop Task _JM_triggers_B-10621-1.txt', '/media/ioastorga/Lexar/NIRS_data/10622_20181126/Pet Store Stroop Task _JM-10622-1.txt', '/media/ioastorga/Lexar/NIRS_data/10628_20181105/Pet Store Stroop Task _JM-10628-1.txt', '/media/ioastorga/Lexar/NIRS_data/10631_20181127/Pet Store Stroop Task _JM-10631-1.txt', '/media/ioastorga/Lexar/NIRS_data/10637_20190111/Pet Store Stroop Task _JM_triggers_B-10637-1.txt', '/media/ioastorga/Lexar/NIRS_data/10638_20190115/Pet Store Stroop Task _JM_triggers_B-10638-1.txt', '/media/ioastorga/Lexar/NIRS_data/10701_20190505/Pet Store Stroop Task _JM_triggers_StimBlack-10701-1.txt', '/media/ioastorga/Lexar/NIRS_data/10703_20190522/Pet Store Stroop Task _JM_triggers_StimBlack-10703-1.txt', '/media/ioastorga/Lexar/NIRS_data/19022_20181020/Pet Store Stroop Task _JM-19022-1.txt', '/media/ioastorga/Lexar/NIRS_data/10066_20190317/Pet Store Stroop Task _JM_triggers_JS-10066-1.txt', '/media/ioastorga/Lexar/NIRS_data/10080_20190424/Pet Store Stroop Task _JM_triggers_StimBlack-10080-1.txt', '/media/ioastorga/Lexar/NIRS_data/10082_20190316/Pet Store Stroop Task _JM_triggers_JS-10082-1.txt', '/media/ioastorga/Lexar/NIRS_data/10089_20190216/Pet Store Stroop Task _JM_triggers-10089-1.txt', '/media/ioastorga/Lexar/NIRS_data/10090_20181016/Pet Store Stroop Task _JM-10090-1.txt', '/media/ioastorga/Lexar/NIRS_data/10099_20190204/Pet Store Stroop Task _JM_triggers_B-10099-1.txt', '/media/ioastorga/Lexar/NIRS_data/10107_20190330/Pet Store Stroop Task _JM_triggers_StimBlack-10107-1.txt', '/media/ioastorga/Lexar/NIRS_data/10500_20190114/Pet Store Stroop Task _JM_triggers_B-10500-1.txt', '/media/ioastorga/Lexar/NIRS_data/10503_20190315/Pet Store Stroop Task _JM_triggers_JS-10503-1.txt', '/media/ioastorga/Lexar/NIRS_data/10513_20190629/Pet Store Stroop Task _JM_triggers_StimBlack-10513-1.txt', '/media/ioastorga/Lexar/NIRS_data/10520_20181218/Pet Store Stroop Task _JM_triggers_B-10520-1.txt', '/media/ioastorga/Lexar/NIRS_data/10523_20181110/Pet Store Stroop Task _JM-10523-1.txt']\n"
     ]
    }
   ],
   "source": [
    "\n",
    "path = \"/media/ioastorga/Lexar/NIRS_data\"\n",
    "task_files_all = []\n",
    "# r=root, d=directories, f = files\n",
    "for r, d, f in os.walk(path):\n",
    "    for file in f:\n",
    "        if \".txt\" in file and \"Stroop\" in file and not \"Practice\" in file and not \"._\" in file:\n",
    "            task_files_all.append(os.path.join(r,file))\n",
    "print(task_files_all)"
   ]
  },
  {
   "cell_type": "code",
   "execution_count": 11,
   "metadata": {},
   "outputs": [],
   "source": [
    "field_to_column = dict([('NonStroopList1','NSt1'), ('StroopList1','St1'),\n",
    "                   ('NonStroopList2','NSt2'), ('StroopList2','St2'),\n",
    "                   ('NonStroop3','NSt3'), ('Strooplist3','St3'),]) \n",
    "\n",
    "\n",
    "def file_to_row(fname):\n",
    "    row = {}\n",
    "    start_parsing_frame = False\n",
    "    curr_frame = {}\n",
    "    with open(fname, encoding='utf-16-le') as fl:\n",
    "        for line in fl.readlines():\n",
    "            line = line.strip('\\n')\n",
    "            if 'Subject:' in line:\n",
    "                row['ID'] = line.split(':')[-1].strip()\n",
    "               # if row['ID'] == '1':\n",
    "                #    print(fname)\n",
    "            elif 'LogFrame Start' in line:\n",
    "                start_parsing_frame = True\n",
    "            elif 'LogFrame End' in line:\n",
    "                start_parsing_frame = False\n",
    "                frame_type = None\n",
    "                frame_key = None\n",
    "                for key in curr_frame.keys():\n",
    "                    for field_key in field_to_column.keys():\n",
    "                        if key == field_key:\n",
    "                            frame_type = field_to_column[key] # e.g. Exp1\n",
    "                            frame_key = key\n",
    "                if frame_type is None:\n",
    "                    curr_frame = {}\n",
    "                else:\n",
    "                    sample = curr_frame[frame_key] # S: 1-6\n",
    "                    column_name = frame_type + '_S' + sample\n",
    "                    if 'Slide1.RT' in curr_frame:\n",
    "                        row[column_name + '_RT'] = int(curr_frame['Slide1.RT'])\n",
    "                    else:\n",
    "                        row[column_name + '_RT'] = 999 \n",
    "                    if 'Response' in curr_frame and curr_frame['Response'] == curr_frame['Slide1.CRESP']:\n",
    "                        row[column_name + '_Resp'] = 1\n",
    "                    elif 'Image' in curr_frame['Response']:\n",
    "                        row[column_name + '_Resp'] = 'video' # manual input from video?\n",
    "                    else:\n",
    "                        row[column_name + '_Resp'] = 0 \n",
    "\n",
    "                    curr_frame = {}\n",
    "            elif start_parsing_frame:\n",
    "                fields = [x.strip() for x in line.split(':')]\n",
    "                curr_frame[fields[0]] = fields[1]\n",
    "    return row\n",
    "            \n",
    "rows = []\n",
    "\n",
    "for fname in task_files_all:\n",
    "    rows.append(file_to_row(fname))\n",
    "\n",
    "expt_table = pd.DataFrame(rows).set_index('ID')\n",
    "\n"
   ]
  },
  {
   "cell_type": "code",
   "execution_count": 12,
   "metadata": {},
   "outputs": [],
   "source": [
    "expt_table.to_csv('table_for_spss_scoop_all.csv')"
   ]
  },
  {
   "cell_type": "code",
   "execution_count": 13,
   "metadata": {},
   "outputs": [
    {
     "data": {
      "text/plain": [
       "30"
      ]
     },
     "execution_count": 13,
     "metadata": {},
     "output_type": "execute_result"
    }
   ],
   "source": [
    "len(rows)"
   ]
  },
  {
   "cell_type": "code",
   "execution_count": null,
   "metadata": {},
   "outputs": [],
   "source": []
  }
 ],
 "metadata": {
  "kernelspec": {
   "display_name": "Python 3",
   "language": "python",
   "name": "python3"
  },
  "language_info": {
   "codemirror_mode": {
    "name": "ipython",
    "version": 3
   },
   "file_extension": ".py",
   "mimetype": "text/x-python",
   "name": "python",
   "nbconvert_exporter": "python",
   "pygments_lexer": "ipython3",
   "version": "3.7.3"
  }
 },
 "nbformat": 4,
 "nbformat_minor": 2
}
